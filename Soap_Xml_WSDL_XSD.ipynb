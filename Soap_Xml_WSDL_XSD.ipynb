{
 "cells": [
  {
   "cell_type": "markdown",
   "id": "8dff9054",
   "metadata": {},
   "source": [
    "# Projeto Web Service SOAP e XML / WSDL e XSD"
   ]
  },
  {
   "cell_type": "markdown",
   "id": "11bb11d2",
   "metadata": {},
   "source": [
    "Zeep: Python SOAP client\n",
    "\n",
    "Zeep inspeciona o documento WSDL e gera o código correspondente para usar os serviços e tipos no documento. Isso fornece uma interface programática fácil de usar para um servidor SOAP"
   ]
  },
  {
   "cell_type": "raw",
   "id": "2f967a3f",
   "metadata": {},
   "source": [
    "Instalar biblioteca Zeep"
   ]
  },
  {
   "cell_type": "code",
   "execution_count": 1,
   "id": "730dcd6c",
   "metadata": {},
   "outputs": [
    {
     "name": "stdout",
     "output_type": "stream",
     "text": [
      "Collecting zeep\n",
      "  Downloading zeep-4.0.0-py2.py3-none-any.whl (100 kB)\n",
      "Requirement already satisfied: pytz in c:\\programdata\\anaconda3\\lib\\site-packages (from zeep) (2021.1)\n",
      "Collecting cached-property>=1.3.0\n",
      "  Downloading cached_property-1.5.2-py2.py3-none-any.whl (7.6 kB)\n",
      "Requirement already satisfied: appdirs>=1.4.0 in c:\\programdata\\anaconda3\\lib\\site-packages (from zeep) (1.4.4)\n",
      "Collecting isodate>=0.5.4\n",
      "  Downloading isodate-0.6.0-py2.py3-none-any.whl (45 kB)\n",
      "Collecting requests-file>=1.5.1\n",
      "  Downloading requests_file-1.5.1-py2.py3-none-any.whl (3.7 kB)\n",
      "Requirement already satisfied: defusedxml>=0.4.1 in c:\\programdata\\anaconda3\\lib\\site-packages (from zeep) (0.7.1)\n",
      "Requirement already satisfied: requests>=2.7.0 in c:\\programdata\\anaconda3\\lib\\site-packages (from zeep) (2.25.1)\n",
      "Requirement already satisfied: attrs>=17.2.0 in c:\\programdata\\anaconda3\\lib\\site-packages (from zeep) (20.3.0)\n",
      "Requirement already satisfied: lxml>=3.1.0 in c:\\programdata\\anaconda3\\lib\\site-packages (from zeep) (4.6.3)\n",
      "Collecting requests-toolbelt>=0.7.1\n",
      "  Downloading requests_toolbelt-0.9.1-py2.py3-none-any.whl (54 kB)\n",
      "Requirement already satisfied: six in c:\\programdata\\anaconda3\\lib\\site-packages (from isodate>=0.5.4->zeep) (1.15.0)\n",
      "Note: you may need to restart the kernel to use updated packages.\n",
      "Requirement already satisfied: certifi>=2017.4.17 in c:\\programdata\\anaconda3\\lib\\site-packages (from requests>=2.7.0->zeep) (2020.12.5)\n",
      "Requirement already satisfied: urllib3<1.27,>=1.21.1 in c:\\programdata\\anaconda3\\lib\\site-packages (from requests>=2.7.0->zeep) (1.26.4)\n",
      "Requirement already satisfied: idna<3,>=2.5 in c:\\programdata\\anaconda3\\lib\\site-packages (from requests>=2.7.0->zeep) (2.10)\n",
      "Requirement already satisfied: chardet<5,>=3.0.2 in c:\\programdata\\anaconda3\\lib\\site-packages (from requests>=2.7.0->zeep) (4.0.0)\n",
      "Installing collected packages: requests-toolbelt, requests-file, isodate, cached-property, zeep\n",
      "Successfully installed cached-property-1.5.2 isodate-0.6.0 requests-file-1.5.1 requests-toolbelt-0.9.1 zeep-4.0.0\n"
     ]
    }
   ],
   "source": [
    "pip install zeep"
   ]
  },
  {
   "cell_type": "raw",
   "id": "01329d21",
   "metadata": {},
   "source": [
    "Vamos utilizar o site de dominio publico 'http://soapclient.com/xml/soapresponder.wsdl' para obter resposta\n",
    "\n",
    "Quando instanciamos a operação o Python já traz todas as funções do WSDL"
   ]
  },
  {
   "cell_type": "code",
   "execution_count": 4,
   "id": "801da64c",
   "metadata": {},
   "outputs": [
    {
     "name": "stdout",
     "output_type": "stream",
     "text": [
      "Your input parameters are Teste and Web Service\n"
     ]
    }
   ],
   "source": [
    "from zeep import Client\n",
    "\n",
    "client = Client('http://soapclient.com/xml/soapresponder.wsdl')\n",
    "result = client.service.Method1(bstrParam1='Teste',bstrParam2='Web Service')\n",
    "print(result)"
   ]
  },
  {
   "cell_type": "code",
   "execution_count": null,
   "id": "0ee3810b",
   "metadata": {},
   "outputs": [],
   "source": []
  }
 ],
 "metadata": {
  "kernelspec": {
   "display_name": "Python 3",
   "language": "python",
   "name": "python3"
  },
  "language_info": {
   "codemirror_mode": {
    "name": "ipython",
    "version": 3
   },
   "file_extension": ".py",
   "mimetype": "text/x-python",
   "name": "python",
   "nbconvert_exporter": "python",
   "pygments_lexer": "ipython3",
   "version": "3.8.8"
  }
 },
 "nbformat": 4,
 "nbformat_minor": 5
}
